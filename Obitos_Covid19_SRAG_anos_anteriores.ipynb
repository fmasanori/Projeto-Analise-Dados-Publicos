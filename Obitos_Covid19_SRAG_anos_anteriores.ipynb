{
 "cells": [
  {
   "cell_type": "code",
   "execution_count": 3,
   "metadata": {},
   "outputs": [],
   "source": [
    "#baixo as bibliotecas necessárias para a analise e limpeza dos dados de Covid-19\n",
    "import pandas as pd \n",
    "low_memory = False\n",
    "import matplotlib.pyplot as plt\n",
    "%matplotlib inline\n",
    "pd.options.display.max_columns = 80\n",
    "pd.options.display.max_rows = 90"
   ]
  },
  {
   "cell_type": "code",
   "execution_count": 112,
   "metadata": {},
   "outputs": [],
   "source": [
    "filename1 = r'C:\\Users\\dhavy\\Desktop\\Trabalho ADP\\HIST_PAINEL_COVIDBR_09jul2020.xlsx'\n",
    "dados_covid = pd.read_excel(filename1)"
   ]
  },
  {
   "cell_type": "code",
   "execution_count": 7,
   "metadata": {},
   "outputs": [
    {
     "name": "stdout",
     "output_type": "stream",
     "text": [
      "<class 'pandas.core.frame.DataFrame'>\n",
      "RangeIndex: 574483 entries, 0 to 574482\n",
      "Data columns (total 17 columns):\n",
      " #   Column                  Non-Null Count   Dtype         \n",
      "---  ------                  --------------   -----         \n",
      " 0   regiao                  574483 non-null  object        \n",
      " 1   estado                  574347 non-null  object        \n",
      " 2   municipio               568470 non-null  object        \n",
      " 3   coduf                   574483 non-null  int64         \n",
      " 4   codmun                  570675 non-null  float64       \n",
      " 5   codRegiaoSaude          568470 non-null  float64       \n",
      " 6   nomeRegiaoSaude         568470 non-null  object        \n",
      " 7   data                    574483 non-null  datetime64[ns]\n",
      " 8   semanaEpi               574483 non-null  int64         \n",
      " 9   populacaoTCU2019        572278 non-null  object        \n",
      " 10  casosAcumulado          574483 non-null  int64         \n",
      " 11  casosNovos              574483 non-null  int64         \n",
      " 12  obitosAcumulado         574483 non-null  int64         \n",
      " 13  obitosNovos             574483 non-null  int64         \n",
      " 14  Recuperadosnovos        82 non-null      float64       \n",
      " 15  emAcompanhamentoNovos   82 non-null      float64       \n",
      " 16  interior/metropolitana  568470 non-null  float64       \n",
      "dtypes: datetime64[ns](1), float64(5), int64(6), object(5)\n",
      "memory usage: 74.5+ MB\n"
     ]
    }
   ],
   "source": [
    "#Conferindo as que tipo de informações o arquivo possui\n",
    "dados_covid.info()"
   ]
  },
  {
   "cell_type": "code",
   "execution_count": 128,
   "metadata": {},
   "outputs": [],
   "source": [
    "dados_covid.rename(columns={ 'semanaEpi': 'semana', 'obitosAcumulado' : 'ObitosAcumulados'},inplace=True)"
   ]
  },
  {
   "cell_type": "code",
   "execution_count": 139,
   "metadata": {},
   "outputs": [
    {
     "data": {
      "text/plain": [
       "regiao\n",
       "Brasil          69184\n",
       "Sudeste         17118\n",
       "Nordeste         6741\n",
       "Norte            5196\n",
       "Sul               931\n",
       "Centro-Oeste      928\n",
       "Name: ObitosAcumulados, dtype: int64"
      ]
     },
     "execution_count": 139,
     "metadata": {},
     "output_type": "execute_result"
    }
   ],
   "source": [
    "#óbitos acumulados até 09/07/20\n",
    "dados_covid.groupby('regiao')['ObitosAcumulados'].max().sort_values(ascending=False)"
   ]
  },
  {
   "cell_type": "code",
   "execution_count": 130,
   "metadata": {},
   "outputs": [
    {
     "data": {
      "text/plain": [
       "<matplotlib.axes._subplots.AxesSubplot at 0x2506bf36d48>"
      ]
     },
     "execution_count": 130,
     "metadata": {},
     "output_type": "execute_result"
    },
    {
     "data": {
      "image/png": "[encoded data removed]",
      "text/plain": [
       "<Figure size 1152x576 with 1 Axes>"
      ]
     },
     "metadata": {
      "needs_background": "light"
     },
     "output_type": "display_data"
    }
   ],
   "source": [
    "#gráfico demonstrando número de óbitos até 09/07/20\n",
    "dados_covid.groupby('semana')['ObitosAcumulados'].sum().plot(kind='bar', color = 'red', title = 'Óbitos por COVID-19 acumulados no país (semanalmente)', figsize = (16,8))\n",
    "\n"
   ]
  },
  {
   "cell_type": "code",
   "execution_count": null,
   "metadata": {},
   "outputs": [],
   "source": []
  },
  {
   "cell_type": "code",
   "execution_count": 113,
   "metadata": {},
   "outputs": [],
   "source": [
    "filename2 = r'C:\\Users\\dhavy\\Desktop\\Trabalho ADP\\influd18_limpo-final.csv'\n",
    "obitos2018 = pd.read_csv(filename2, delimiter=';', \n",
    "                 encoding='ISO-8859-1',\n",
    "                 error_bad_lines=False)\n",
    "\n"
   ]
  },
  {
   "cell_type": "code",
   "execution_count": 114,
   "metadata": {},
   "outputs": [],
   "source": [
    "filename3 = r'C:\\Users\\dhavy\\Desktop\\Trabalho ADP\\influd17_limpo-final.csv'\n",
    "obitos2017 = pd.read_csv(filename3, delimiter=';', \n",
    "                 encoding='ISO-8859-1',\n",
    "                 error_bad_lines=False)\n"
   ]
  },
  {
   "cell_type": "code",
   "execution_count": 115,
   "metadata": {},
   "outputs": [],
   "source": [
    "filename4 = r'C:\\Users\\dhavy\\Desktop\\Trabalho ADP\\influd16_limpo-final.csv'\n",
    "obitos2016 = pd.read_csv(filename4, delimiter=';', \n",
    "                 encoding='ISO-8859-1',\n",
    "                 error_bad_lines=False)"
   ]
  },
  {
   "cell_type": "code",
   "execution_count": 132,
   "metadata": {},
   "outputs": [
    {
     "data": {
      "text/plain": [
       "<matplotlib.axes._subplots.AxesSubplot at 0x2507f1a3908>"
      ]
     },
     "execution_count": 132,
     "metadata": {},
     "output_type": "execute_result"
    },
    {
     "data": {
      "image/png": "[encoded data removed]",
      "text/plain": [
       "<Figure size 432x288 with 1 Axes>"
      ]
     },
     "metadata": {
      "needs_background": "light"
     },
     "output_type": "display_data"
    }
   ],
   "source": [
    "#grafico dos obitos em 2016\n",
    "obitos2016.query('EVOLUCAO == 2').groupby('EVOLUCAO').size().sort_values(ascending=False).head(10).plot(kind='bar')\n",
    "\n"
   ]
  },
  {
   "cell_type": "code",
   "execution_count": 133,
   "metadata": {},
   "outputs": [
    {
     "data": {
      "text/plain": [
       "2.0    7533\n",
       "Name: EVOLUCAO, dtype: int64"
      ]
     },
     "execution_count": 133,
     "metadata": {},
     "output_type": "execute_result"
    }
   ],
   "source": [
    "#Número de óbitos em 2016\n",
    "obitos2016.query('EVOLUCAO == 2')['EVOLUCAO'].value_counts()"
   ]
  },
  {
   "cell_type": "code",
   "execution_count": null,
   "metadata": {},
   "outputs": [],
   "source": []
  },
  {
   "cell_type": "code",
   "execution_count": 134,
   "metadata": {},
   "outputs": [
    {
     "data": {
      "text/plain": [
       "<matplotlib.axes._subplots.AxesSubplot at 0x2507e1c6908>"
      ]
     },
     "execution_count": 134,
     "metadata": {},
     "output_type": "execute_result"
    },
    {
     "data": {
      "image/png": "[encoded data removed]",
      "text/plain": [
       "<Figure size 432x288 with 1 Axes>"
      ]
     },
     "metadata": {
      "needs_background": "light"
     },
     "output_type": "display_data"
    }
   ],
   "source": [
    "#grafico de obitos de 2017\n",
    "obitos2017.query('EVOLUCAO == 2').groupby('EVOLUCAO').size().sort_values(ascending=False).head(10).plot(kind='bar')"
   ]
  },
  {
   "cell_type": "code",
   "execution_count": 135,
   "metadata": {},
   "outputs": [
    {
     "data": {
      "text/plain": [
       "2.0    3469\n",
       "Name: EVOLUCAO, dtype: int64"
      ]
     },
     "execution_count": 135,
     "metadata": {},
     "output_type": "execute_result"
    }
   ],
   "source": [
    "#numero de obitos em 2017\n",
    "obitos2017.query('EVOLUCAO == 2')['EVOLUCAO'].value_counts()"
   ]
  },
  {
   "cell_type": "code",
   "execution_count": 136,
   "metadata": {},
   "outputs": [
    {
     "data": {
      "text/plain": [
       "<matplotlib.axes._subplots.AxesSubplot at 0x2507bdce748>"
      ]
     },
     "execution_count": 136,
     "metadata": {},
     "output_type": "execute_result"
    },
    {
     "data": {
      "image/png": "[encoded data removed]",
      "text/plain": [
       "<Figure size 432x288 with 1 Axes>"
      ]
     },
     "metadata": {
      "needs_background": "light"
     },
     "output_type": "display_data"
    }
   ],
   "source": [
    "#graficos de obitos em 2018\n",
    "obitos2018.query('EVOLUCAO == 2').groupby('EVOLUCAO').size().sort_values(ascending=False).head(10).plot(kind='bar')"
   ]
  },
  {
   "cell_type": "code",
   "execution_count": 137,
   "metadata": {},
   "outputs": [
    {
     "data": {
      "text/plain": [
       "2.0    5491\n",
       "Name: EVOLUCAO, dtype: int64"
      ]
     },
     "execution_count": 137,
     "metadata": {},
     "output_type": "execute_result"
    }
   ],
   "source": [
    "#numero de obitos em 2018\n",
    "obitos2018.query('EVOLUCAO == 2')['EVOLUCAO'].value_counts()"
   ]
  },
  {
   "cell_type": "code",
   "execution_count": null,
   "metadata": {},
   "outputs": [],
   "source": []
  },
  {
   "cell_type": "code",
   "execution_count": null,
   "metadata": {},
   "outputs": [],
   "source": []
  }
 ],
 "metadata": {
  "kernelspec": {
   "display_name": "Python 3",
   "language": "python",
   "name": "python3"
  },
  "language_info": {
   "codemirror_mode": {
    "name": "ipython",
    "version": 3
   },
   "file_extension": ".py",
   "mimetype": "text/x-python",
   "name": "python",
   "nbconvert_exporter": "python",
   "pygments_lexer": "ipython3",
   "version": "3.7.8"
  }
 },
 "nbformat": 4,
 "nbformat_minor": 4
}
